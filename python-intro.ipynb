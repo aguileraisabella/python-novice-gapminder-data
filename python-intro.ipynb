{
  "cells": [
    {
      "cell_type": "markdown",
      "metadata": {
        "id": "view-in-github",
        "colab_type": "text"
      },
      "source": [
        "<a href=\"https://colab.research.google.com/github/aguileraisabella/python-novice-gapminder-data/blob/main/python-intro.ipynb\" target=\"_parent\"><img src=\"https://colab.research.google.com/assets/colab-badge.svg\" alt=\"Open In Colab\"/></a>"
      ]
    },
    {
      "cell_type": "markdown",
      "source": [
        "# Intro to Python\n",
        "**bold text is pretty**\n",
        "\n",
        "Hello, my name is Isabella and this is my Intro to Python text\n",
        "\n"
      ],
      "metadata": {
        "id": "oRgtErLy3v0v"
      }
    },
    {
      "cell_type": "code",
      "source": [
        "age = 26\n",
        "name = \"Isabella\""
      ],
      "metadata": {
        "id": "xu-OHdSV4s_M"
      },
      "execution_count": 1,
      "outputs": []
    },
    {
      "cell_type": "code",
      "source": [
        "print(name, 'is', age, 'years old','.')"
      ],
      "metadata": {
        "id": "u1fT6UJt5e1d",
        "outputId": "3425ea3e-245f-41f6-837e-034a0fddfd16",
        "colab": {
          "base_uri": "https://localhost:8080/"
        }
      },
      "execution_count": 3,
      "outputs": [
        {
          "output_type": "stream",
          "name": "stdout",
          "text": [
            "Isabella is 26 years old .\n"
          ]
        }
      ]
    },
    {
      "cell_type": "code",
      "source": [
        "#Notice that python is case sensitive\n",
        "last_name = \"Aguilera Cuenca\"\n",
        "print(last_name)"
      ],
      "metadata": {
        "id": "2Iohr6X27Ah6",
        "outputId": "6faa378e-1e3b-4376-891d-87c784b73f17",
        "colab": {
          "base_uri": "https://localhost:8080/"
        }
      },
      "execution_count": 6,
      "outputs": [
        {
          "output_type": "stream",
          "name": "stdout",
          "text": [
            "Aguilera Cuenca\n"
          ]
        }
      ]
    },
    {
      "cell_type": "code",
      "source": [
        "print(name, \"will be\", age+10, \"in ten years.\")"
      ],
      "metadata": {
        "id": "WrxGlyDF7tiT",
        "outputId": "e558873e-7996-41ae-c3b2-9462e13720aa",
        "colab": {
          "base_uri": "https://localhost:8080/"
        }
      },
      "execution_count": 7,
      "outputs": [
        {
          "output_type": "stream",
          "name": "stdout",
          "text": [
            "Isabella will be 36 in ten years.\n"
          ]
        }
      ]
    },
    {
      "cell_type": "code",
      "source": [
        "print(name[2])\n",
        "#looks at the string as a list of letters. Keep in mind that the index starts with 0"
      ],
      "metadata": {
        "id": "4UWyUHuk8UUi",
        "outputId": "c31d59d3-67f6-4952-d803-7847ccec6162",
        "colab": {
          "base_uri": "https://localhost:8080/"
        }
      },
      "execution_count": 8,
      "outputs": [
        {
          "output_type": "stream",
          "name": "stdout",
          "text": [
            "a\n"
          ]
        }
      ]
    },
    {
      "cell_type": "code",
      "source": [
        "print(name[0])"
      ],
      "metadata": {
        "id": "FQFWL8wO7bsv",
        "outputId": "7db17a29-9766-4feb-8956-6ae06719c84a",
        "colab": {
          "base_uri": "https://localhost:8080/"
        }
      },
      "execution_count": 9,
      "outputs": [
        {
          "output_type": "stream",
          "name": "stdout",
          "text": [
            "I\n"
          ]
        }
      ]
    },
    {
      "cell_type": "code",
      "source": [
        "#we can also call a list of characters. Notice that it excludes the upper limit\n",
        "name_substring = name[0:3]\n",
        "print(name_substring)"
      ],
      "metadata": {
        "id": "Da3y04A-8smO",
        "outputId": "82a82e88-4e3a-4a5d-a6bb-f86462f0bda3",
        "colab": {
          "base_uri": "https://localhost:8080/"
        }
      },
      "execution_count": 12,
      "outputs": [
        {
          "output_type": "stream",
          "name": "stdout",
          "text": [
            "Isa\n"
          ]
        }
      ]
    },
    {
      "cell_type": "code",
      "source": [
        "#how many characters are in a given string?\n",
        "length_name = len(name)\n",
        "print(length_name)\n",
        "print(length_name + 4)"
      ],
      "metadata": {
        "id": "ZyUx0z-l9Ns5",
        "outputId": "3cc04ed6-cd22-438e-d2d9-6f796555b86b",
        "colab": {
          "base_uri": "https://localhost:8080/"
        }
      },
      "execution_count": 16,
      "outputs": [
        {
          "output_type": "stream",
          "name": "stdout",
          "text": [
            "8\n",
            "12\n"
          ]
        }
      ]
    },
    {
      "cell_type": "code",
      "source": [
        "#to change the content of a variable just assign it again. Everytime you make a change to the variable and execute, its going to print the LATEST changes\n",
        "last_name = \"Aguilera-Cuenca\"\n",
        "print(last_name)"
      ],
      "metadata": {
        "id": "EwKGsRU-98BV",
        "outputId": "334cba88-0a4c-4139-ddab-2516958f5bb3",
        "colab": {
          "base_uri": "https://localhost:8080/"
        }
      },
      "execution_count": 20,
      "outputs": [
        {
          "output_type": "stream",
          "name": "stdout",
          "text": [
            "Aguilera-Cuenca\n"
          ]
        }
      ]
    },
    {
      "cell_type": "code",
      "source": [
        "#to assess what type of variable it is. Note that it only shows the last one\n",
        "type(name)\n",
        "type(age)"
      ],
      "metadata": {
        "id": "2nUeGnGN-xoE",
        "outputId": "a00a91d2-a4ad-435f-897d-27b1557f50bc",
        "colab": {
          "base_uri": "https://localhost:8080/"
        }
      },
      "execution_count": 22,
      "outputs": [
        {
          "output_type": "execute_result",
          "data": {
            "text/plain": [
              "int"
            ]
          },
          "metadata": {},
          "execution_count": 22
        }
      ]
    },
    {
      "cell_type": "code",
      "source": [
        "#If you put a variable bewteen quotes it will take it as a string even if its a numer\n",
        "new_age = \"20\"\n",
        "print(new_age +15)"
      ],
      "metadata": {
        "id": "7YmmhNnL-zSp",
        "outputId": "64a7acda-43e0-4218-caaa-681511d41a6a",
        "colab": {
          "base_uri": "https://localhost:8080/",
          "height": 162
        }
      },
      "execution_count": 25,
      "outputs": [
        {
          "output_type": "error",
          "ename": "TypeError",
          "evalue": "can only concatenate str (not \"int\") to str",
          "traceback": [
            "\u001b[0;31m---------------------------------------------------------------------------\u001b[0m",
            "\u001b[0;31mTypeError\u001b[0m                                 Traceback (most recent call last)",
            "\u001b[0;32m<ipython-input-25-dfbb8096059e>\u001b[0m in \u001b[0;36m<cell line: 0>\u001b[0;34m()\u001b[0m\n\u001b[1;32m      1\u001b[0m \u001b[0mnew_age\u001b[0m \u001b[0;34m=\u001b[0m \u001b[0;34m\"20\"\u001b[0m\u001b[0;34m\u001b[0m\u001b[0;34m\u001b[0m\u001b[0m\n\u001b[0;32m----> 2\u001b[0;31m \u001b[0mprint\u001b[0m\u001b[0;34m(\u001b[0m\u001b[0mnew_age\u001b[0m \u001b[0;34m+\u001b[0m\u001b[0;36m15\u001b[0m\u001b[0;34m)\u001b[0m\u001b[0;34m\u001b[0m\u001b[0;34m\u001b[0m\u001b[0m\n\u001b[0m",
            "\u001b[0;31mTypeError\u001b[0m: can only concatenate str (not \"int\") to str"
          ]
        }
      ]
    },
    {
      "cell_type": "code",
      "source": [
        "#to change the type of variable\n",
        "new_age = int(new_age)"
      ],
      "metadata": {
        "id": "HRxT0Osp-4FC"
      },
      "execution_count": 26,
      "outputs": []
    },
    {
      "cell_type": "code",
      "source": [
        "print(new_age +15)"
      ],
      "metadata": {
        "id": "0epq_X1DBgqK",
        "outputId": "f48deee3-9a8b-4b5f-a3fd-c1e2322aa327",
        "colab": {
          "base_uri": "https://localhost:8080/"
        }
      },
      "execution_count": 27,
      "outputs": [
        {
          "output_type": "stream",
          "name": "stdout",
          "text": [
            "35\n"
          ]
        }
      ]
    },
    {
      "cell_type": "code",
      "source": [
        "num = 5.0923"
      ],
      "metadata": {
        "id": "pwnqRysgBwid"
      },
      "execution_count": 28,
      "outputs": []
    },
    {
      "cell_type": "code",
      "source": [
        "type(num)"
      ],
      "metadata": {
        "id": "rvcsiAY2CckW",
        "outputId": "0865a941-ea2d-4a86-c8cc-87a488b61b35",
        "colab": {
          "base_uri": "https://localhost:8080/"
        }
      },
      "execution_count": 29,
      "outputs": [
        {
          "output_type": "execute_result",
          "data": {
            "text/plain": [
              "float"
            ]
          },
          "metadata": {},
          "execution_count": 29
        }
      ]
    },
    {
      "cell_type": "code",
      "source": [
        "num - 0.856473"
      ],
      "metadata": {
        "id": "sSjprj0RCfGg",
        "outputId": "7cd21f15-1ee1-4cfb-d531-804f30a2e944",
        "colab": {
          "base_uri": "https://localhost:8080/"
        }
      },
      "execution_count": 30,
      "outputs": [
        {
          "output_type": "execute_result",
          "data": {
            "text/plain": [
              "4.235827"
            ]
          },
          "metadata": {},
          "execution_count": 30
        }
      ]
    },
    {
      "cell_type": "code",
      "source": [
        "num * 6"
      ],
      "metadata": {
        "id": "V30NM4P2Crm8",
        "outputId": "9c14c25a-86ec-42f1-9069-d467273b2fbf",
        "colab": {
          "base_uri": "https://localhost:8080/"
        }
      },
      "execution_count": 31,
      "outputs": [
        {
          "output_type": "execute_result",
          "data": {
            "text/plain": [
              "30.5538"
            ]
          },
          "metadata": {},
          "execution_count": 31
        }
      ]
    },
    {
      "cell_type": "code",
      "source": [
        "num / 0.5"
      ],
      "metadata": {
        "id": "6A8Kxz0lCvsD",
        "outputId": "c35886b8-6ba9-4966-e456-4d657eea9f79",
        "colab": {
          "base_uri": "https://localhost:8080/"
        }
      },
      "execution_count": 33,
      "outputs": [
        {
          "output_type": "execute_result",
          "data": {
            "text/plain": [
              "10.1846"
            ]
          },
          "metadata": {},
          "execution_count": 33
        }
      ]
    },
    {
      "cell_type": "code",
      "source": [
        "integer = 4\n",
        "print(integer/3)"
      ],
      "metadata": {
        "id": "DUkxWmF-C44Y",
        "outputId": "655f5a5b-5360-4cd1-b177-09ff3cf55817",
        "colab": {
          "base_uri": "https://localhost:8080/"
        }
      },
      "execution_count": 34,
      "outputs": [
        {
          "output_type": "stream",
          "name": "stdout",
          "text": [
            "1.3333333333333333\n"
          ]
        }
      ]
    },
    {
      "cell_type": "code",
      "source": [
        "type(integer/3)"
      ],
      "metadata": {
        "id": "puFSPA2wDEnS",
        "outputId": "243a2d20-fb77-49ce-8280-9a7a537f9528",
        "colab": {
          "base_uri": "https://localhost:8080/"
        }
      },
      "execution_count": 35,
      "outputs": [
        {
          "output_type": "execute_result",
          "data": {
            "text/plain": [
              "float"
            ]
          },
          "metadata": {},
          "execution_count": 35
        }
      ]
    },
    {
      "cell_type": "code",
      "source": [
        "name * 2"
      ],
      "metadata": {
        "id": "W_YSS6OgDKmY",
        "outputId": "19bb8243-c7d1-4ac9-e33d-54b84054bf80",
        "colab": {
          "base_uri": "https://localhost:8080/",
          "height": 35
        }
      },
      "execution_count": 36,
      "outputs": [
        {
          "output_type": "execute_result",
          "data": {
            "text/plain": [
              "'IsabellaIsabella'"
            ],
            "application/vnd.google.colaboratory.intrinsic+json": {
              "type": "string"
            }
          },
          "metadata": {},
          "execution_count": 36
        }
      ]
    },
    {
      "cell_type": "code",
      "source": [
        "name + \".\""
      ],
      "metadata": {
        "id": "g0eAxAkkD3Xh",
        "outputId": "85d11af4-cfc4-4a6f-bfd3-a345fd3264eb",
        "colab": {
          "base_uri": "https://localhost:8080/",
          "height": 35
        }
      },
      "execution_count": 37,
      "outputs": [
        {
          "output_type": "execute_result",
          "data": {
            "text/plain": [
              "'Isabella.'"
            ],
            "application/vnd.google.colaboratory.intrinsic+json": {
              "type": "string"
            }
          },
          "metadata": {},
          "execution_count": 37
        }
      ]
    },
    {
      "cell_type": "code",
      "source": [],
      "metadata": {
        "id": "d4tB-nSREK9T"
      },
      "execution_count": null,
      "outputs": []
    }
  ],
  "metadata": {
    "colab": {
      "provenance": [],
      "include_colab_link": true
    },
    "language_info": {
      "name": "python"
    },
    "kernelspec": {
      "name": "python3",
      "display_name": "Python 3"
    }
  },
  "nbformat": 4,
  "nbformat_minor": 0
}